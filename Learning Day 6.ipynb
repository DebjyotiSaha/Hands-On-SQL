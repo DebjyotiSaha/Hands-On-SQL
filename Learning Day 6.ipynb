{
 "cells": [
  {
   "cell_type": "code",
   "execution_count": 1,
   "id": "a7b11492",
   "metadata": {},
   "outputs": [
    {
     "name": "stdout",
     "output_type": "stream",
     "text": [
      "Requirement already satisfied: mysql-connector-python in c:\\users\\hp\\anaconda3\\lib\\site-packages (9.1.0)\n"
     ]
    }
   ],
   "source": [
    "!pip install --upgrade mysql-connector-python"
   ]
  },
  {
   "cell_type": "code",
   "execution_count": 2,
   "id": "a30861a3",
   "metadata": {},
   "outputs": [
    {
     "name": "stdout",
     "output_type": "stream",
     "text": [
      "MySQL Database connection successful\n"
     ]
    }
   ],
   "source": [
    "import mysql.connector\n",
    "from mysql.connector import Error\n",
    "\n",
    "def create_server_connection(host_name, user_name, user_password):\n",
    "    connection = None\n",
    "    try:\n",
    "        connection = mysql.connector.connect(\n",
    "            host=host_name,\n",
    "            user=user_name,\n",
    "            passwd=user_password,\n",
    "            auth_plugin='mysql_native_password'  # Force use of mysql_native_password\n",
    "        )\n",
    "        print(\"MySQL Database connection successful\")\n",
    "    except Error as err:\n",
    "        print(f\"Error: '{err}'\")\n",
    "    return connection\n",
    "\n",
    "# MySQL Password\n",
    "pw = \" \"\n",
    "\n",
    "# Attempt to connect to the database\n",
    "connection = create_server_connection(\"localhost\", \"root\", pw)\n"
   ]
  },
  {
   "cell_type": "code",
   "execution_count": 7,
   "id": "ed673b0a",
   "metadata": {},
   "outputs": [],
   "source": [
    "db = \"mysql_python\""
   ]
  },
  {
   "cell_type": "code",
   "execution_count": 3,
   "id": "78641822",
   "metadata": {},
   "outputs": [
    {
     "name": "stdout",
     "output_type": "stream",
     "text": [
      "Database created sucessfully\n"
     ]
    }
   ],
   "source": [
    "#Create mysql_python \n",
    "\n",
    "def create_database(connection, query):\n",
    "    cursor = connection.cursor()\n",
    "    try:\n",
    "        cursor.execute(query)\n",
    "        print(\"Database created sucessfully\")\n",
    "    except Error as err:\n",
    "        print(f\"Error: '{err}'\")\n",
    "create_database_query = \"Create database mysql_python\"\n",
    "create_database(connection, create_database_query)"
   ]
  },
  {
   "cell_type": "code",
   "execution_count": 4,
   "id": "44d5b807",
   "metadata": {},
   "outputs": [],
   "source": [
    "#Connect to database\n",
    "\n",
    "def create_db_connection(host_name, user_name, user_password, db_name):\n",
    "    connection = None\n",
    "    try:\n",
    "        connection = mysql.connector.connect(\n",
    "        host = host_name,\n",
    "        user = user_name,\n",
    "        passwd = user_password,\n",
    "        database = db_name)\n",
    "        print(\"MySQL Database connection sucessful\")\n",
    "    except Error as err:\n",
    "        print(f\"Error: '{err}'\")\n",
    "    return connection"
   ]
  },
  {
   "cell_type": "code",
   "execution_count": 5,
   "id": "d18f0103",
   "metadata": {},
   "outputs": [],
   "source": [
    "#Execute SQL queries\n",
    "\n",
    "def execute_query(connection, query):\n",
    "    cursor = connection.cursor()\n",
    "    try:\n",
    "        cursor.execute(query)\n",
    "        connection.commit()\n",
    "        print(\"Query was sucessful\")\n",
    "    except Error as err:\n",
    "        print(f\"Error: '{err}'\")"
   ]
  },
  {
   "cell_type": "code",
   "execution_count": 8,
   "id": "9ce26e04",
   "metadata": {},
   "outputs": [
    {
     "name": "stdout",
     "output_type": "stream",
     "text": [
      "MySQL Database connection sucessful\n",
      "Query was sucessful\n"
     ]
    }
   ],
   "source": [
    "create_orders_table = \"\"\" \n",
    "create table orders(\n",
    "    order_id int primary key,\n",
    "    customer_name varchar(25) NOT NULL,\n",
    "    product_name varchar(20) NOT NULL,\n",
    "    date_ordered date,\n",
    "    quantity int,\n",
    "    unit_price float,\n",
    "    phone_number varchar(20));\n",
    "\"\"\"\n",
    "\n",
    "#Connect to the database\n",
    "connection = create_db_connection(\"localhost\", \"root\", pw, db)\n",
    "execute_query(connection, create_orders_table)"
   ]
  },
  {
   "cell_type": "code",
   "execution_count": 10,
   "id": "d4106f95",
   "metadata": {},
   "outputs": [
    {
     "name": "stdout",
     "output_type": "stream",
     "text": [
      "MySQL Database connection sucessful\n",
      "Query was sucessful\n"
     ]
    }
   ],
   "source": [
    "# Insert data\n",
    "\n",
    "data_orders = \"\"\"\n",
    "insert into orders values\n",
    "(101, \"Steve\", \"Laptop\", \"2018-06-12\", 2, 800, \"343246363\"),\n",
    "(102, \"Shane\", \"Headphone\", \"2016-11-24\", 2, 500, \"32535745\"),\n",
    "(103, \"Angela\", \"Table\", \"2024-11-12\", 1, 1000, \"586758609\"),\n",
    "(104, \"Travis\", \"Bat\", \"2023-11-19\", 5, 4000, \"7856484788\");\n",
    "\"\"\"\n",
    "\n",
    "connection = create_db_connection(\"localhost\", \"root\", pw, db)\n",
    "execute_query(connection, data_orders)"
   ]
  },
  {
   "cell_type": "code",
   "execution_count": 11,
   "id": "fad5bb8a",
   "metadata": {},
   "outputs": [],
   "source": [
    "def read_query(connection, query):\n",
    "    cursor = connection.cursor()\n",
    "    result = None\n",
    "    try:\n",
    "        cursor.execute(query)\n",
    "        result = cursor.fetchall()\n",
    "        return result\n",
    "    except Error as err:\n",
    "        print(f\"Error: '{err}'\")"
   ]
  },
  {
   "cell_type": "code",
   "execution_count": 12,
   "id": "2a15c560",
   "metadata": {},
   "outputs": [
    {
     "name": "stdout",
     "output_type": "stream",
     "text": [
      "MySQL Database connection sucessful\n",
      "(101, 'Steve', 'Laptop', datetime.date(2018, 6, 12), 2, 800.0, '343246363')\n",
      "(102, 'Shane', 'Headphone', datetime.date(2016, 11, 24), 2, 500.0, '32535745')\n",
      "(103, 'Angela', 'Table', datetime.date(2024, 11, 12), 1, 1000.0, '586758609')\n",
      "(104, 'Travis', 'Bat', datetime.date(2023, 11, 19), 5, 4000.0, '7856484788')\n"
     ]
    }
   ],
   "source": [
    "#Using the select statement\n",
    "\n",
    "q1 = \"\"\"\n",
    "select * from orders;\n",
    "\"\"\"\n",
    "connection = create_db_connection(\"localhost\", \"root\", pw, db)\n",
    "results = read_query(connection, q1)\n",
    "for result in results:\n",
    "    print(result)"
   ]
  },
  {
   "cell_type": "code",
   "execution_count": 13,
   "id": "b15eba3a",
   "metadata": {},
   "outputs": [
    {
     "name": "stdout",
     "output_type": "stream",
     "text": [
      "MySQL Database connection sucessful\n",
      "('Steve', '343246363')\n",
      "('Shane', '32535745')\n",
      "('Angela', '586758609')\n",
      "('Travis', '7856484788')\n"
     ]
    }
   ],
   "source": [
    "#Using the select statement\n",
    "\n",
    "q2 = \"\"\"\n",
    "select customer_name, phone_number from orders;\n",
    "\"\"\"\n",
    "connection = create_db_connection(\"localhost\", \"root\", pw, db)\n",
    "results = read_query(connection, q2)\n",
    "for result in results:\n",
    "    print(result)"
   ]
  },
  {
   "cell_type": "code",
   "execution_count": 14,
   "id": "a6d63e41",
   "metadata": {},
   "outputs": [
    {
     "name": "stdout",
     "output_type": "stream",
     "text": [
      "MySQL Database connection sucessful\n",
      "(2018,)\n",
      "(2016,)\n",
      "(2024,)\n",
      "(2023,)\n"
     ]
    }
   ],
   "source": [
    "#Using the select statement\n",
    "\n",
    "q3 = \"\"\"\n",
    "select year(date_ordered) from orders;\n",
    "\"\"\"\n",
    "connection = create_db_connection(\"localhost\", \"root\", pw, db)\n",
    "results = read_query(connection, q3)\n",
    "for result in results:\n",
    "    print(result)"
   ]
  },
  {
   "cell_type": "code",
   "execution_count": 15,
   "id": "b41aba03",
   "metadata": {},
   "outputs": [
    {
     "name": "stdout",
     "output_type": "stream",
     "text": [
      "MySQL Database connection sucessful\n",
      "(2018,)\n",
      "(2016,)\n",
      "(2024,)\n",
      "(2023,)\n"
     ]
    }
   ],
   "source": [
    "#Using the select statement\n",
    "\n",
    "q4 = \"\"\"\n",
    "select distinct year(date_ordered) from orders;\n",
    "\"\"\"\n",
    "connection = create_db_connection(\"localhost\", \"root\", pw, db)\n",
    "results = read_query(connection, q4)\n",
    "for result in results:\n",
    "    print(result)"
   ]
  },
  {
   "cell_type": "code",
   "execution_count": 16,
   "id": "16e9a69d",
   "metadata": {},
   "outputs": [
    {
     "name": "stdout",
     "output_type": "stream",
     "text": [
      "MySQL Database connection sucessful\n",
      "(101, 'Steve', 'Laptop', datetime.date(2018, 6, 12), 2, 800.0, '343246363')\n",
      "(102, 'Shane', 'Headphone', datetime.date(2016, 11, 24), 2, 500.0, '32535745')\n"
     ]
    }
   ],
   "source": [
    "#Using the select statement\n",
    "\n",
    "q5 = \"\"\"\n",
    "select * from orders where date_ordered <= '2018-12-31';\n",
    "\"\"\"\n",
    "connection = create_db_connection(\"localhost\", \"root\", pw, db)\n",
    "results = read_query(connection, q5)\n",
    "for result in results:\n",
    "    print(result)"
   ]
  },
  {
   "cell_type": "code",
   "execution_count": 17,
   "id": "f15f80b3",
   "metadata": {},
   "outputs": [
    {
     "name": "stdout",
     "output_type": "stream",
     "text": [
      "MySQL Database connection sucessful\n",
      "(103, 'Angela', 'Table', datetime.date(2024, 11, 12), 1, 1000.0, '586758609')\n",
      "(104, 'Travis', 'Bat', datetime.date(2023, 11, 19), 5, 4000.0, '7856484788')\n"
     ]
    }
   ],
   "source": [
    "#Using the select statement\n",
    "\n",
    "q6 = \"\"\"\n",
    "select * from orders where date_ordered > '2018-12-31';\n",
    "\"\"\"\n",
    "connection = create_db_connection(\"localhost\", \"root\", pw, db)\n",
    "results = read_query(connection, q6)\n",
    "for result in results:\n",
    "    print(result)"
   ]
  },
  {
   "cell_type": "code",
   "execution_count": 19,
   "id": "7a1e1a56",
   "metadata": {},
   "outputs": [
    {
     "name": "stdout",
     "output_type": "stream",
     "text": [
      "MySQL Database connection sucessful\n",
      "(104, 'Travis', 'Bat', datetime.date(2023, 11, 19), 5, 4000.0, '7856484788')\n",
      "(103, 'Angela', 'Table', datetime.date(2024, 11, 12), 1, 1000.0, '586758609')\n",
      "(101, 'Steve', 'Laptop', datetime.date(2018, 6, 12), 2, 800.0, '343246363')\n",
      "(102, 'Shane', 'Headphone', datetime.date(2016, 11, 24), 2, 500.0, '32535745')\n"
     ]
    }
   ],
   "source": [
    "#Using the select statement\n",
    "\n",
    "q7 = \"\"\"\n",
    "select * from orders order by unit_price desc;\n",
    "\"\"\"\n",
    "connection = create_db_connection(\"localhost\", \"root\", pw, db)\n",
    "results = read_query(connection, q7)\n",
    "for result in results:\n",
    "    print(result)"
   ]
  },
  {
   "cell_type": "code",
   "execution_count": 21,
   "id": "8d3d29ea",
   "metadata": {},
   "outputs": [
    {
     "data": {
      "text/html": [
       "<div>\n",
       "<style scoped>\n",
       "    .dataframe tbody tr th:only-of-type {\n",
       "        vertical-align: middle;\n",
       "    }\n",
       "\n",
       "    .dataframe tbody tr th {\n",
       "        vertical-align: top;\n",
       "    }\n",
       "\n",
       "    .dataframe thead th {\n",
       "        text-align: right;\n",
       "    }\n",
       "</style>\n",
       "<table border=\"1\" class=\"dataframe\">\n",
       "  <thead>\n",
       "    <tr style=\"text-align: right;\">\n",
       "      <th></th>\n",
       "      <th>order_id</th>\n",
       "      <th>customer_name</th>\n",
       "      <th>product_name</th>\n",
       "      <th>date_ordered</th>\n",
       "      <th>quantity</th>\n",
       "      <th>unit_price</th>\n",
       "      <th>phone_number</th>\n",
       "    </tr>\n",
       "  </thead>\n",
       "  <tbody>\n",
       "    <tr>\n",
       "      <th>0</th>\n",
       "      <td>104</td>\n",
       "      <td>Travis</td>\n",
       "      <td>Bat</td>\n",
       "      <td>2023-11-19</td>\n",
       "      <td>5</td>\n",
       "      <td>4000.0</td>\n",
       "      <td>7856484788</td>\n",
       "    </tr>\n",
       "    <tr>\n",
       "      <th>1</th>\n",
       "      <td>103</td>\n",
       "      <td>Angela</td>\n",
       "      <td>Table</td>\n",
       "      <td>2024-11-12</td>\n",
       "      <td>1</td>\n",
       "      <td>1000.0</td>\n",
       "      <td>586758609</td>\n",
       "    </tr>\n",
       "    <tr>\n",
       "      <th>2</th>\n",
       "      <td>101</td>\n",
       "      <td>Steve</td>\n",
       "      <td>Laptop</td>\n",
       "      <td>2018-06-12</td>\n",
       "      <td>2</td>\n",
       "      <td>800.0</td>\n",
       "      <td>343246363</td>\n",
       "    </tr>\n",
       "    <tr>\n",
       "      <th>3</th>\n",
       "      <td>102</td>\n",
       "      <td>Shane</td>\n",
       "      <td>Headphone</td>\n",
       "      <td>2016-11-24</td>\n",
       "      <td>2</td>\n",
       "      <td>500.0</td>\n",
       "      <td>32535745</td>\n",
       "    </tr>\n",
       "  </tbody>\n",
       "</table>\n",
       "</div>"
      ],
      "text/plain": [
       "   order_id customer_name product_name date_ordered  quantity  unit_price  \\\n",
       "0       104        Travis          Bat   2023-11-19         5      4000.0   \n",
       "1       103        Angela        Table   2024-11-12         1      1000.0   \n",
       "2       101         Steve       Laptop   2018-06-12         2       800.0   \n",
       "3       102         Shane    Headphone   2016-11-24         2       500.0   \n",
       "\n",
       "  phone_number  \n",
       "0   7856484788  \n",
       "1    586758609  \n",
       "2    343246363  \n",
       "3     32535745  "
      ]
     },
     "metadata": {},
     "output_type": "display_data"
    }
   ],
   "source": [
    "import pandas as pd\n",
    "from_db =[]\n",
    "\n",
    "for result in results:\n",
    "    result = list(result)\n",
    "    from_db.append(result)\n",
    "columns = [\"order_id\", \"customer_name\", \"product_name\", \"date_ordered\", \"quantity\",\n",
    "          \"unit_price\", \"phone_number\"]\n",
    "df = pd.DataFrame(from_db, columns = columns)\n",
    "display(df)"
   ]
  },
  {
   "cell_type": "code",
   "execution_count": 22,
   "id": "a4cc1dae",
   "metadata": {},
   "outputs": [
    {
     "name": "stdout",
     "output_type": "stream",
     "text": [
      "MySQL Database connection sucessful\n",
      "Query was sucessful\n"
     ]
    }
   ],
   "source": [
    "#Update command\n",
    "\n",
    "update = \"\"\"\n",
    "update orders\n",
    "set unit_price = 7000\n",
    "where order_id = 101\n",
    "\"\"\"\n",
    "connection = create_db_connection(\"localhost\", \"root\", pw, db)\n",
    "execute_query(connection, update)"
   ]
  },
  {
   "cell_type": "code",
   "execution_count": 24,
   "id": "1cbe7f58",
   "metadata": {},
   "outputs": [
    {
     "name": "stdout",
     "output_type": "stream",
     "text": [
      "MySQL Database connection sucessful\n",
      "(101, 'Steve', 'Laptop', datetime.date(2018, 6, 12), 2, 7000.0, '343246363')\n"
     ]
    }
   ],
   "source": [
    "q8 = \"\"\"\n",
    "select * from orders where order_id = 101;\n",
    "\"\"\"\n",
    "connection = create_db_connection(\"localhost\", \"root\", pw, db)\n",
    "results = read_query(connection, q8)\n",
    "for result in results:\n",
    "    print(result)"
   ]
  },
  {
   "cell_type": "code",
   "execution_count": 25,
   "id": "d6ae6d71",
   "metadata": {},
   "outputs": [
    {
     "name": "stdout",
     "output_type": "stream",
     "text": [
      "MySQL Database connection sucessful\n",
      "Query was sucessful\n"
     ]
    }
   ],
   "source": [
    "#Delete command\n",
    "\n",
    "delete_order = \"\"\"\n",
    "delete from orders\n",
    "where order_id = 102;\n",
    "\"\"\"\n",
    "connection = create_db_connection(\"localhost\", \"root\", pw, db)\n",
    "execute_query(connection, delete_order)"
   ]
  },
  {
   "cell_type": "code",
   "execution_count": 26,
   "id": "7e74c71c",
   "metadata": {},
   "outputs": [
    {
     "name": "stdout",
     "output_type": "stream",
     "text": [
      "MySQL Database connection sucessful\n",
      "(101, 'Steve', 'Laptop', datetime.date(2018, 6, 12), 2, 7000.0, '343246363')\n",
      "(103, 'Angela', 'Table', datetime.date(2024, 11, 12), 1, 1000.0, '586758609')\n",
      "(104, 'Travis', 'Bat', datetime.date(2023, 11, 19), 5, 4000.0, '7856484788')\n"
     ]
    }
   ],
   "source": [
    "q9 = \"\"\"\n",
    "select * from orders;\n",
    "\"\"\"\n",
    "connection = create_db_connection(\"localhost\", \"root\", pw, db)\n",
    "results = read_query(connection, q9)\n",
    "for result in results:\n",
    "    print(result)"
   ]
  },
  {
   "cell_type": "code",
   "execution_count": null,
   "id": "3e370608",
   "metadata": {},
   "outputs": [],
   "source": []
  }
 ],
 "metadata": {
  "kernelspec": {
   "display_name": "Python 3 (ipykernel)",
   "language": "python",
   "name": "python3"
  },
  "language_info": {
   "codemirror_mode": {
    "name": "ipython",
    "version": 3
   },
   "file_extension": ".py",
   "mimetype": "text/x-python",
   "name": "python",
   "nbconvert_exporter": "python",
   "pygments_lexer": "ipython3",
   "version": "3.9.7"
  }
 },
 "nbformat": 4,
 "nbformat_minor": 5
}
